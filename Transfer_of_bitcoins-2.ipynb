{
  "cells": [
    {
      "cell_type": "code",
      "execution_count": 1,
      "metadata": {},
      "outputs": [
        {
          "name": "stdout",
          "output_type": "stream",
          "text": [
            "Defaulting to user installation because normal site-packages is not writeableNote: you may need to restart the kernel to use updated packages.\n"
          ]
        },
        {
          "name": "stderr",
          "output_type": "stream",
          "text": [
            "ERROR: Could not find a version that satisfies the requirement hashlib (from versions: 20081119)\n",
            "ERROR: No matching distribution found for hashlib\n",
            "\n",
            "[notice] A new release of pip is available: 23.0.1 -> 25.1.1\n",
            "[notice] To update, run: python.exe -m pip install --upgrade pip\n"
          ]
        },
        {
          "name": "stdout",
          "output_type": "stream",
          "text": [
            "\n",
            "Collecting rsa\n",
            "  Using cached rsa-4.9.1-py3-none-any.whl (34 kB)\n"
          ]
        }
      ],
      "source": [
        "pip install rsa hashlib"
      ]
    },
    {
      "cell_type": "code",
      "execution_count": 2,
      "metadata": {
        "id": "0RkIkAJamLdp"
      },
      "outputs": [],
      "source": [
        "import hashlib\n",
        "import json\n",
        "from time import time"
      ]
    },
    {
      "cell_type": "code",
      "execution_count": 3,
      "metadata": {
        "id": "qljtSq1t0kOu"
      },
      "outputs": [],
      "source": [
        "class block_chain(object):\n",
        "    def __init__(self):\n",
        "        self.chain = []\n",
        "        self.pending_transactions = []\n",
        "\n",
        "        self.new_block(previous_hash=\"1\", proof=100)\n",
        "        # Create a new block listing key/value pairs of block information in a JSON object. Reset the list of pending transactions & append the newest block to the chain.\n",
        "    def new_block(self, proof, previous_hash=None):\n",
        "        block = {\n",
        "            'index': len(self.chain) + 1,\n",
        "            'timestamp': time(),\n",
        "            'transactions': self.pending_transactions,\n",
        "            'proof': proof,\n",
        "            'previous_hash': previous_hash or self.hash(self.chain[-1]),\n",
        "        }\n",
        "        self.pending_transactions = []\n",
        "        self.chain.append(block)\n",
        "\n",
        "        return block\n",
        "\n",
        "#Write Functions to Create New Transactions & Get the Last Block\n",
        "\n",
        "#Search the blockchain for the most recent block.\n",
        "\n",
        "\n",
        "    @property\n",
        "    def last_block(self):\n",
        " \n",
        "        return self.chain[-1]\n",
        "\n",
        "# Add a transaction with relevant info to the 'blockpool' - list of pending tx's. \n",
        "\n",
        "    def new_transaction(self, sender, recipient, amount):\n",
        "        transaction = {\n",
        "            'sender': sender,\n",
        "            'recipient': recipient,\n",
        "            'amount': amount\n",
        "        }\n",
        "        self.pending_transactions.append(transaction)\n",
        "        return self.last_block['index'] + 1\n",
        "\n",
        "# receive one block. Turn it into a string, turn that into Unicode (for hashing). Hash with SHA256 encryption, then translate the Unicode into a hexidecimal string.\n",
        "\n",
        "    def hash(self, block):\n",
        "        string_object = json.dumps(block, sort_keys=True)\n",
        "        block_string = string_object.encode()\n",
        "\n",
        "        raw_hash = hashlib.sha256(block_string)\n",
        "        hex_hash = raw_hash.hexdigest()\n",
        "\n",
        "        return hex_hash"
      ]
    },
    {
      "cell_type": "code",
      "execution_count": 4,
      "metadata": {
        "colab": {
          "base_uri": "https://localhost:8080/"
        },
        "id": "ESlV2Yv20rKe",
        "outputId": "8b43cf5c-8022-40ce-87ee-c7a7a3914a42"
      },
      "outputs": [
        {
          "name": "stdout",
          "output_type": "stream",
          "text": [
            "Genesis block:  [{'index': 1, 'timestamp': 1749802626.7388341, 'transactions': [], 'proof': 100, 'previous_hash': '1'}, {'index': 2, 'timestamp': 1749802626.7398348, 'transactions': [{'sender': 'Sally', 'recipient': 'Moana', 'amount': '2 BTC'}, {'sender': 'Moana', 'recipient': 'Sally', 'amount': '3 BTC'}, {'sender': 'Sally', 'recipient': 'Ariana', 'amount': '4 BTC'}], 'proof': 12345, 'previous_hash': '91a0e3c0bd4971cd6aaef21941ca911a4947fe6114d38187e4fcce68c230ef4d'}, {'index': 3, 'timestamp': 1749802626.7398348, 'transactions': [{'sender': 'Moana', 'recipient': 'Bella', 'amount': '1 BTC'}, {'sender': 'Bella', 'recipient': 'Laura', 'amount': '2 BTC'}, {'sender': 'Laura', 'recipient': 'Moana', 'amount': '3 BTC'}], 'proof': 6789, 'previous_hash': '223012c83a2a7071fb2e9201eff456a583ab4b9d3029a3a79477b288a346e771'}]\n"
          ]
        }
      ],
      "source": [
        "blockchain = block_chain()\n",
        "t1 = blockchain.new_transaction(\"Sally\", \"Moana\", '2 BTC')\n",
        "t2 = blockchain.new_transaction(\"Moana\", \"Sally\", '3 BTC')\n",
        "t3 = blockchain.new_transaction(\"Sally\", \"Ariana\", '4 BTC')\n",
        "blockchain.new_block(12345)\n",
        "\n",
        "t4 = blockchain.new_transaction(\"Moana\", \"Bella\", '1 BTC')\n",
        "t5 = blockchain.new_transaction(\"Bella\", \"Laura\", '2 BTC')\n",
        "t6 = blockchain.new_transaction(\"Laura\", \"Moana\", '3 BTC')\n",
        "blockchain.new_block(6789)\n",
        "\n",
        "print(\"Genesis block: \",  blockchain.chain)"
      ]
    },
    {
      "cell_type": "code",
      "execution_count": null,
      "metadata": {
        "id": "ql1kMZjU07Pb"
      },
      "outputs": [],
      "source": []
    },
    {
      "cell_type": "code",
      "execution_count": null,
      "metadata": {
        "id": "VKTHD4WR6oyM"
      },
      "outputs": [],
      "source": []
    },
    {
      "cell_type": "code",
      "execution_count": null,
      "metadata": {
        "id": "sWHaGdsm6ovb"
      },
      "outputs": [],
      "source": []
    },
    {
      "cell_type": "markdown",
      "metadata": {
        "id": "TJrUwBFp6XvE"
      },
      "source": [
        "# Hi there, \n",
        "\n",
        "If you need any help on Blockchain Project.\n",
        "\n",
        "\n",
        "Please Contact me(vatshayan)\n",
        "\n",
        "**Mail Id : vatshayan007@gmail.com**\n"
      ]
    },
    {
      "cell_type": "code",
      "execution_count": null,
      "metadata": {
        "id": "IogJx07Y6r8Z"
      },
      "outputs": [],
      "source": []
    }
  ],
  "metadata": {
    "colab": {
      "name": "Transfer of bitcoins.ipynb",
      "provenance": []
    },
    "kernelspec": {
      "display_name": "Python 3",
      "language": "python",
      "name": "python3"
    },
    "language_info": {
      "codemirror_mode": {
        "name": "ipython",
        "version": 3
      },
      "file_extension": ".py",
      "mimetype": "text/x-python",
      "name": "python",
      "nbconvert_exporter": "python",
      "pygments_lexer": "ipython3",
      "version": "3.10.11"
    }
  },
  "nbformat": 4,
  "nbformat_minor": 0
}
